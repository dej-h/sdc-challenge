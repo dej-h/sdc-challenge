{
 "cells": [
  {
   "cell_type": "code",
   "execution_count": 25,
   "id": "4abcb931-c891-4dab-a8b8-803619569525",
   "metadata": {
    "tags": []
   },
   "outputs": [],
   "source": [
    "\n",
    "# ONLY USE THIS FOR FIRST TIME USE IN JUPYTER\n",
    "!/opt/miniconda3/bin/python3.11 -m venv ~/new_python_3_11_env\n",
    "\n"
   ]
  },
  {
   "cell_type": "code",
   "execution_count": 26,
   "id": "63e5b3f7-2f9d-42e5-a5ef-75eddde3c612",
   "metadata": {
    "collapsed": true,
    "jupyter": {
     "outputs_hidden": true
    },
    "tags": []
   },
   "outputs": [
    {
     "name": "stdout",
     "output_type": "stream",
     "text": [
      "Collecting ipykernel\n",
      "  Using cached ipykernel-6.29.4-py3-none-any.whl.metadata (6.3 kB)\n",
      "Collecting jupyter\n",
      "  Using cached jupyter-1.0.0-py2.py3-none-any.whl.metadata (995 bytes)\n",
      "Collecting comm>=0.1.1 (from ipykernel)\n",
      "  Using cached comm-0.2.2-py3-none-any.whl.metadata (3.7 kB)\n",
      "Requirement already satisfied: debugpy>=1.6.5 in /home/jovyan/new_python_3_11_env/lib/python3.11/site-packages (from ipykernel) (1.8.1)\n",
      "Collecting ipython>=7.23.1 (from ipykernel)\n",
      "  Using cached ipython-8.24.0-py3-none-any.whl.metadata (4.9 kB)\n",
      "Collecting jupyter-client>=6.1.12 (from ipykernel)\n",
      "  Using cached jupyter_client-8.6.1-py3-none-any.whl.metadata (8.3 kB)\n",
      "Requirement already satisfied: jupyter-core!=5.0.*,>=4.12 in /home/jovyan/new_python_3_11_env/lib/python3.11/site-packages (from ipykernel) (5.7.2)\n",
      "Requirement already satisfied: matplotlib-inline>=0.1 in /home/jovyan/new_python_3_11_env/lib/python3.11/site-packages (from ipykernel) (0.1.7)\n",
      "Requirement already satisfied: nest-asyncio in /home/jovyan/new_python_3_11_env/lib/python3.11/site-packages (from ipykernel) (1.6.0)\n",
      "Requirement already satisfied: packaging in /home/jovyan/new_python_3_11_env/lib/python3.11/site-packages (from ipykernel) (24.0)\n",
      "Requirement already satisfied: psutil in /home/jovyan/new_python_3_11_env/lib/python3.11/site-packages (from ipykernel) (5.9.8)\n",
      "Requirement already satisfied: pyzmq>=24 in /home/jovyan/new_python_3_11_env/lib/python3.11/site-packages (from ipykernel) (26.0.3)\n",
      "Requirement already satisfied: tornado>=6.1 in /home/jovyan/new_python_3_11_env/lib/python3.11/site-packages (from ipykernel) (6.4)\n",
      "Requirement already satisfied: traitlets>=5.4.0 in /home/jovyan/new_python_3_11_env/lib/python3.11/site-packages (from ipykernel) (5.14.3)\n",
      "Collecting notebook (from jupyter)\n",
      "  Using cached notebook-7.1.3-py3-none-any.whl.metadata (10 kB)\n",
      "Collecting qtconsole (from jupyter)\n",
      "  Using cached qtconsole-5.5.2-py3-none-any.whl.metadata (5.1 kB)\n",
      "Collecting jupyter-console (from jupyter)\n",
      "  Using cached jupyter_console-6.6.3-py3-none-any.whl.metadata (5.8 kB)\n",
      "Collecting nbconvert (from jupyter)\n",
      "  Using cached nbconvert-7.16.4-py3-none-any.whl.metadata (8.5 kB)\n",
      "Collecting ipywidgets (from jupyter)\n",
      "  Using cached ipywidgets-8.1.2-py3-none-any.whl.metadata (2.4 kB)\n",
      "Requirement already satisfied: decorator in /home/jovyan/new_python_3_11_env/lib/python3.11/site-packages (from ipython>=7.23.1->ipykernel) (5.1.1)\n",
      "Collecting jedi>=0.16 (from ipython>=7.23.1->ipykernel)\n",
      "  Using cached jedi-0.19.1-py2.py3-none-any.whl.metadata (22 kB)\n",
      "Requirement already satisfied: prompt-toolkit<3.1.0,>=3.0.41 in /home/jovyan/new_python_3_11_env/lib/python3.11/site-packages (from ipython>=7.23.1->ipykernel) (3.0.43)\n",
      "Requirement already satisfied: pygments>=2.4.0 in /home/jovyan/new_python_3_11_env/lib/python3.11/site-packages (from ipython>=7.23.1->ipykernel) (2.18.0)\n",
      "Collecting stack-data (from ipython>=7.23.1->ipykernel)\n",
      "  Using cached stack_data-0.6.3-py3-none-any.whl.metadata (18 kB)\n",
      "Requirement already satisfied: typing-extensions>=4.6 in /home/jovyan/new_python_3_11_env/lib/python3.11/site-packages (from ipython>=7.23.1->ipykernel) (4.11.0)\n",
      "Requirement already satisfied: pexpect>4.3 in /home/jovyan/new_python_3_11_env/lib/python3.11/site-packages (from ipython>=7.23.1->ipykernel) (4.9.0)\n",
      "Requirement already satisfied: python-dateutil>=2.8.2 in /home/jovyan/new_python_3_11_env/lib/python3.11/site-packages (from jupyter-client>=6.1.12->ipykernel) (2.9.0.post0)\n",
      "Requirement already satisfied: platformdirs>=2.5 in /home/jovyan/new_python_3_11_env/lib/python3.11/site-packages (from jupyter-core!=5.0.*,>=4.12->ipykernel) (4.2.1)\n",
      "Requirement already satisfied: widgetsnbextension~=4.0.10 in /home/jovyan/new_python_3_11_env/lib/python3.11/site-packages (from ipywidgets->jupyter) (4.0.10)\n",
      "Requirement already satisfied: jupyterlab-widgets~=3.0.10 in /home/jovyan/new_python_3_11_env/lib/python3.11/site-packages (from ipywidgets->jupyter) (3.0.10)\n",
      "Collecting beautifulsoup4 (from nbconvert->jupyter)\n",
      "  Using cached beautifulsoup4-4.12.3-py3-none-any.whl.metadata (3.8 kB)\n",
      "Collecting bleach!=5.0.0 (from nbconvert->jupyter)\n",
      "  Using cached bleach-6.1.0-py3-none-any.whl.metadata (30 kB)\n",
      "Requirement already satisfied: defusedxml in /home/jovyan/new_python_3_11_env/lib/python3.11/site-packages (from nbconvert->jupyter) (0.7.1)\n",
      "Requirement already satisfied: jinja2>=3.0 in /home/jovyan/new_python_3_11_env/lib/python3.11/site-packages (from nbconvert->jupyter) (3.1.4)\n",
      "Requirement already satisfied: jupyterlab-pygments in /home/jovyan/new_python_3_11_env/lib/python3.11/site-packages (from nbconvert->jupyter) (0.3.0)\n",
      "Requirement already satisfied: markupsafe>=2.0 in /home/jovyan/new_python_3_11_env/lib/python3.11/site-packages (from nbconvert->jupyter) (2.1.5)\n",
      "Requirement already satisfied: mistune<4,>=2.0.3 in /home/jovyan/new_python_3_11_env/lib/python3.11/site-packages (from nbconvert->jupyter) (3.0.2)\n",
      "Collecting nbclient>=0.5.0 (from nbconvert->jupyter)\n",
      "  Using cached nbclient-0.10.0-py3-none-any.whl.metadata (7.8 kB)\n",
      "Collecting nbformat>=5.7 (from nbconvert->jupyter)\n",
      "  Using cached nbformat-5.10.4-py3-none-any.whl.metadata (3.6 kB)\n",
      "Requirement already satisfied: pandocfilters>=1.4.1 in /home/jovyan/new_python_3_11_env/lib/python3.11/site-packages (from nbconvert->jupyter) (1.5.1)\n",
      "Requirement already satisfied: tinycss2 in /home/jovyan/new_python_3_11_env/lib/python3.11/site-packages (from nbconvert->jupyter) (1.3.0)\n",
      "Collecting jupyter-server<3,>=2.4.0 (from notebook->jupyter)\n",
      "  Using cached jupyter_server-2.14.0-py3-none-any.whl.metadata (8.4 kB)\n",
      "Collecting jupyterlab-server<3,>=2.22.1 (from notebook->jupyter)\n",
      "  Using cached jupyterlab_server-2.27.1-py3-none-any.whl.metadata (5.9 kB)\n",
      "Collecting jupyterlab<4.2,>=4.1.1 (from notebook->jupyter)\n",
      "  Using cached jupyterlab-4.1.8-py3-none-any.whl.metadata (16 kB)\n",
      "Collecting notebook-shim<0.3,>=0.2 (from notebook->jupyter)\n",
      "  Using cached notebook_shim-0.2.4-py3-none-any.whl.metadata (4.0 kB)\n",
      "Requirement already satisfied: qtpy>=2.4.0 in /home/jovyan/new_python_3_11_env/lib/python3.11/site-packages (from qtconsole->jupyter) (2.4.1)\n",
      "Requirement already satisfied: six>=1.9.0 in /home/jovyan/new_python_3_11_env/lib/python3.11/site-packages (from bleach!=5.0.0->nbconvert->jupyter) (1.16.0)\n",
      "Requirement already satisfied: webencodings in /home/jovyan/new_python_3_11_env/lib/python3.11/site-packages (from bleach!=5.0.0->nbconvert->jupyter) (0.5.1)\n",
      "Requirement already satisfied: parso<0.9.0,>=0.8.3 in /home/jovyan/new_python_3_11_env/lib/python3.11/site-packages (from jedi>=0.16->ipython>=7.23.1->ipykernel) (0.8.4)\n",
      "Collecting anyio>=3.1.0 (from jupyter-server<3,>=2.4.0->notebook->jupyter)\n",
      "  Using cached anyio-4.3.0-py3-none-any.whl.metadata (4.6 kB)\n",
      "Collecting argon2-cffi>=21.1 (from jupyter-server<3,>=2.4.0->notebook->jupyter)\n",
      "  Using cached argon2_cffi-23.1.0-py3-none-any.whl.metadata (5.2 kB)\n",
      "Collecting jupyter-events>=0.9.0 (from jupyter-server<3,>=2.4.0->notebook->jupyter)\n",
      "  Using cached jupyter_events-0.10.0-py3-none-any.whl.metadata (5.9 kB)\n",
      "Collecting jupyter-server-terminals>=0.4.4 (from jupyter-server<3,>=2.4.0->notebook->jupyter)\n",
      "  Using cached jupyter_server_terminals-0.5.3-py3-none-any.whl.metadata (5.6 kB)\n",
      "Requirement already satisfied: overrides>=5.0 in /home/jovyan/new_python_3_11_env/lib/python3.11/site-packages (from jupyter-server<3,>=2.4.0->notebook->jupyter) (7.7.0)\n",
      "Requirement already satisfied: prometheus-client>=0.9 in /home/jovyan/new_python_3_11_env/lib/python3.11/site-packages (from jupyter-server<3,>=2.4.0->notebook->jupyter) (0.20.0)\n",
      "Requirement already satisfied: send2trash>=1.8.2 in /home/jovyan/new_python_3_11_env/lib/python3.11/site-packages (from jupyter-server<3,>=2.4.0->notebook->jupyter) (1.8.3)\n",
      "Requirement already satisfied: terminado>=0.8.3 in /home/jovyan/new_python_3_11_env/lib/python3.11/site-packages (from jupyter-server<3,>=2.4.0->notebook->jupyter) (0.18.1)\n",
      "Requirement already satisfied: websocket-client>=1.7 in /home/jovyan/new_python_3_11_env/lib/python3.11/site-packages (from jupyter-server<3,>=2.4.0->notebook->jupyter) (1.8.0)\n",
      "Requirement already satisfied: async-lru>=1.0.0 in /home/jovyan/new_python_3_11_env/lib/python3.11/site-packages (from jupyterlab<4.2,>=4.1.1->notebook->jupyter) (2.0.4)\n",
      "Collecting httpx>=0.25.0 (from jupyterlab<4.2,>=4.1.1->notebook->jupyter)\n",
      "  Using cached httpx-0.27.0-py3-none-any.whl.metadata (7.2 kB)\n",
      "Collecting jupyter-lsp>=2.0.0 (from jupyterlab<4.2,>=4.1.1->notebook->jupyter)\n",
      "  Using cached jupyter_lsp-2.2.5-py3-none-any.whl.metadata (1.8 kB)\n",
      "Requirement already satisfied: babel>=2.10 in /home/jovyan/new_python_3_11_env/lib/python3.11/site-packages (from jupyterlab-server<3,>=2.22.1->notebook->jupyter) (2.15.0)\n",
      "Requirement already satisfied: json5>=0.9.0 in /home/jovyan/new_python_3_11_env/lib/python3.11/site-packages (from jupyterlab-server<3,>=2.22.1->notebook->jupyter) (0.9.25)\n",
      "Collecting jsonschema>=4.18.0 (from jupyterlab-server<3,>=2.22.1->notebook->jupyter)\n",
      "  Using cached jsonschema-4.22.0-py3-none-any.whl.metadata (8.2 kB)\n",
      "Requirement already satisfied: requests>=2.31 in /home/jovyan/new_python_3_11_env/lib/python3.11/site-packages (from jupyterlab-server<3,>=2.22.1->notebook->jupyter) (2.31.0)\n",
      "Requirement already satisfied: fastjsonschema>=2.15 in /home/jovyan/new_python_3_11_env/lib/python3.11/site-packages (from nbformat>=5.7->nbconvert->jupyter) (2.19.1)\n",
      "Requirement already satisfied: ptyprocess>=0.5 in /home/jovyan/new_python_3_11_env/lib/python3.11/site-packages (from pexpect>4.3->ipython>=7.23.1->ipykernel) (0.7.0)\n",
      "Requirement already satisfied: wcwidth in /home/jovyan/new_python_3_11_env/lib/python3.11/site-packages (from prompt-toolkit<3.1.0,>=3.0.41->ipython>=7.23.1->ipykernel) (0.2.13)\n",
      "Requirement already satisfied: soupsieve>1.2 in /home/jovyan/new_python_3_11_env/lib/python3.11/site-packages (from beautifulsoup4->nbconvert->jupyter) (2.5)\n",
      "Requirement already satisfied: executing>=1.2.0 in /home/jovyan/new_python_3_11_env/lib/python3.11/site-packages (from stack-data->ipython>=7.23.1->ipykernel) (2.0.1)\n",
      "Collecting asttokens>=2.1.0 (from stack-data->ipython>=7.23.1->ipykernel)\n",
      "  Using cached asttokens-2.4.1-py2.py3-none-any.whl.metadata (5.2 kB)\n",
      "Requirement already satisfied: pure-eval in /home/jovyan/new_python_3_11_env/lib/python3.11/site-packages (from stack-data->ipython>=7.23.1->ipykernel) (0.2.2)\n",
      "Requirement already satisfied: idna>=2.8 in /home/jovyan/new_python_3_11_env/lib/python3.11/site-packages (from anyio>=3.1.0->jupyter-server<3,>=2.4.0->notebook->jupyter) (3.7)\n",
      "Requirement already satisfied: sniffio>=1.1 in /home/jovyan/new_python_3_11_env/lib/python3.11/site-packages (from anyio>=3.1.0->jupyter-server<3,>=2.4.0->notebook->jupyter) (1.3.1)\n",
      "Collecting argon2-cffi-bindings (from argon2-cffi>=21.1->jupyter-server<3,>=2.4.0->notebook->jupyter)\n",
      "  Using cached argon2_cffi_bindings-21.2.0-cp36-abi3-manylinux_2_17_x86_64.manylinux2014_x86_64.whl.metadata (6.7 kB)\n",
      "Requirement already satisfied: certifi in /home/jovyan/new_python_3_11_env/lib/python3.11/site-packages (from httpx>=0.25.0->jupyterlab<4.2,>=4.1.1->notebook->jupyter) (2024.2.2)\n",
      "Collecting httpcore==1.* (from httpx>=0.25.0->jupyterlab<4.2,>=4.1.1->notebook->jupyter)\n",
      "  Using cached httpcore-1.0.5-py3-none-any.whl.metadata (20 kB)\n",
      "Requirement already satisfied: h11<0.15,>=0.13 in /home/jovyan/new_python_3_11_env/lib/python3.11/site-packages (from httpcore==1.*->httpx>=0.25.0->jupyterlab<4.2,>=4.1.1->notebook->jupyter) (0.14.0)\n",
      "Requirement already satisfied: attrs>=22.2.0 in /home/jovyan/new_python_3_11_env/lib/python3.11/site-packages (from jsonschema>=4.18.0->jupyterlab-server<3,>=2.22.1->notebook->jupyter) (23.2.0)\n",
      "Collecting jsonschema-specifications>=2023.03.6 (from jsonschema>=4.18.0->jupyterlab-server<3,>=2.22.1->notebook->jupyter)\n",
      "  Using cached jsonschema_specifications-2023.12.1-py3-none-any.whl.metadata (3.0 kB)\n",
      "Requirement already satisfied: referencing>=0.28.4 in /home/jovyan/new_python_3_11_env/lib/python3.11/site-packages (from jsonschema>=4.18.0->jupyterlab-server<3,>=2.22.1->notebook->jupyter) (0.35.1)\n",
      "Requirement already satisfied: rpds-py>=0.7.1 in /home/jovyan/new_python_3_11_env/lib/python3.11/site-packages (from jsonschema>=4.18.0->jupyterlab-server<3,>=2.22.1->notebook->jupyter) (0.18.1)\n",
      "Requirement already satisfied: python-json-logger>=2.0.4 in /home/jovyan/new_python_3_11_env/lib/python3.11/site-packages (from jupyter-events>=0.9.0->jupyter-server<3,>=2.4.0->notebook->jupyter) (2.0.7)\n",
      "Requirement already satisfied: pyyaml>=5.3 in /home/jovyan/new_python_3_11_env/lib/python3.11/site-packages (from jupyter-events>=0.9.0->jupyter-server<3,>=2.4.0->notebook->jupyter) (6.0.1)\n",
      "Requirement already satisfied: rfc3339-validator in /home/jovyan/new_python_3_11_env/lib/python3.11/site-packages (from jupyter-events>=0.9.0->jupyter-server<3,>=2.4.0->notebook->jupyter) (0.1.4)\n",
      "Requirement already satisfied: rfc3986-validator>=0.1.1 in /home/jovyan/new_python_3_11_env/lib/python3.11/site-packages (from jupyter-events>=0.9.0->jupyter-server<3,>=2.4.0->notebook->jupyter) (0.1.1)\n",
      "Requirement already satisfied: charset-normalizer<4,>=2 in /home/jovyan/new_python_3_11_env/lib/python3.11/site-packages (from requests>=2.31->jupyterlab-server<3,>=2.22.1->notebook->jupyter) (3.3.2)\n",
      "Requirement already satisfied: urllib3<3,>=1.21.1 in /home/jovyan/new_python_3_11_env/lib/python3.11/site-packages (from requests>=2.31->jupyterlab-server<3,>=2.22.1->notebook->jupyter) (2.2.1)\n",
      "Requirement already satisfied: fqdn in /home/jovyan/new_python_3_11_env/lib/python3.11/site-packages (from jsonschema[format-nongpl]>=4.18.0->jupyter-events>=0.9.0->jupyter-server<3,>=2.4.0->notebook->jupyter) (1.5.1)\n",
      "Collecting isoduration (from jsonschema[format-nongpl]>=4.18.0->jupyter-events>=0.9.0->jupyter-server<3,>=2.4.0->notebook->jupyter)\n",
      "  Using cached isoduration-20.11.0-py3-none-any.whl.metadata (5.7 kB)\n",
      "Requirement already satisfied: jsonpointer>1.13 in /home/jovyan/new_python_3_11_env/lib/python3.11/site-packages (from jsonschema[format-nongpl]>=4.18.0->jupyter-events>=0.9.0->jupyter-server<3,>=2.4.0->notebook->jupyter) (2.4)\n",
      "Requirement already satisfied: uri-template in /home/jovyan/new_python_3_11_env/lib/python3.11/site-packages (from jsonschema[format-nongpl]>=4.18.0->jupyter-events>=0.9.0->jupyter-server<3,>=2.4.0->notebook->jupyter) (1.3.0)\n",
      "Requirement already satisfied: webcolors>=1.11 in /home/jovyan/new_python_3_11_env/lib/python3.11/site-packages (from jsonschema[format-nongpl]>=4.18.0->jupyter-events>=0.9.0->jupyter-server<3,>=2.4.0->notebook->jupyter) (1.13)\n",
      "Collecting cffi>=1.0.1 (from argon2-cffi-bindings->argon2-cffi>=21.1->jupyter-server<3,>=2.4.0->notebook->jupyter)\n",
      "  Using cached cffi-1.16.0-cp311-cp311-manylinux_2_17_x86_64.manylinux2014_x86_64.whl.metadata (1.5 kB)\n",
      "Requirement already satisfied: pycparser in /home/jovyan/new_python_3_11_env/lib/python3.11/site-packages (from cffi>=1.0.1->argon2-cffi-bindings->argon2-cffi>=21.1->jupyter-server<3,>=2.4.0->notebook->jupyter) (2.22)\n",
      "Collecting arrow>=0.15.0 (from isoduration->jsonschema[format-nongpl]>=4.18.0->jupyter-events>=0.9.0->jupyter-server<3,>=2.4.0->notebook->jupyter)\n",
      "  Using cached arrow-1.3.0-py3-none-any.whl.metadata (7.5 kB)\n",
      "Requirement already satisfied: types-python-dateutil>=2.8.10 in /home/jovyan/new_python_3_11_env/lib/python3.11/site-packages (from arrow>=0.15.0->isoduration->jsonschema[format-nongpl]>=4.18.0->jupyter-events>=0.9.0->jupyter-server<3,>=2.4.0->notebook->jupyter) (2.9.0.20240316)\n",
      "Using cached ipykernel-6.29.4-py3-none-any.whl (117 kB)\n",
      "Using cached jupyter-1.0.0-py2.py3-none-any.whl (2.7 kB)\n",
      "Using cached comm-0.2.2-py3-none-any.whl (7.2 kB)\n",
      "Using cached ipython-8.24.0-py3-none-any.whl (816 kB)\n",
      "Using cached jupyter_client-8.6.1-py3-none-any.whl (105 kB)\n",
      "Using cached ipywidgets-8.1.2-py3-none-any.whl (139 kB)\n",
      "Using cached jupyter_console-6.6.3-py3-none-any.whl (24 kB)\n",
      "Using cached nbconvert-7.16.4-py3-none-any.whl (257 kB)\n",
      "Using cached notebook-7.1.3-py3-none-any.whl (5.0 MB)\n",
      "Using cached qtconsole-5.5.2-py3-none-any.whl (123 kB)\n",
      "Using cached bleach-6.1.0-py3-none-any.whl (162 kB)\n",
      "Using cached jedi-0.19.1-py2.py3-none-any.whl (1.6 MB)\n",
      "Using cached jupyter_server-2.14.0-py3-none-any.whl (383 kB)\n",
      "Using cached jupyterlab-4.1.8-py3-none-any.whl (11.4 MB)\n",
      "Using cached jupyterlab_server-2.27.1-py3-none-any.whl (59 kB)\n",
      "Using cached nbclient-0.10.0-py3-none-any.whl (25 kB)\n",
      "Using cached nbformat-5.10.4-py3-none-any.whl (78 kB)\n",
      "Using cached notebook_shim-0.2.4-py3-none-any.whl (13 kB)\n",
      "Using cached beautifulsoup4-4.12.3-py3-none-any.whl (147 kB)\n",
      "Using cached stack_data-0.6.3-py3-none-any.whl (24 kB)\n",
      "Using cached anyio-4.3.0-py3-none-any.whl (85 kB)\n",
      "Using cached argon2_cffi-23.1.0-py3-none-any.whl (15 kB)\n",
      "Using cached asttokens-2.4.1-py2.py3-none-any.whl (27 kB)\n",
      "Using cached httpx-0.27.0-py3-none-any.whl (75 kB)\n",
      "Using cached httpcore-1.0.5-py3-none-any.whl (77 kB)\n",
      "Using cached jsonschema-4.22.0-py3-none-any.whl (88 kB)\n",
      "Using cached jupyter_events-0.10.0-py3-none-any.whl (18 kB)\n",
      "Using cached jupyter_lsp-2.2.5-py3-none-any.whl (69 kB)\n",
      "Using cached jupyter_server_terminals-0.5.3-py3-none-any.whl (13 kB)\n",
      "Using cached jsonschema_specifications-2023.12.1-py3-none-any.whl (18 kB)\n",
      "Using cached argon2_cffi_bindings-21.2.0-cp36-abi3-manylinux_2_17_x86_64.manylinux2014_x86_64.whl (86 kB)\n",
      "Using cached cffi-1.16.0-cp311-cp311-manylinux_2_17_x86_64.manylinux2014_x86_64.whl (464 kB)\n",
      "Using cached isoduration-20.11.0-py3-none-any.whl (11 kB)\n",
      "Using cached arrow-1.3.0-py3-none-any.whl (66 kB)\n",
      "Installing collected packages: jedi, httpcore, comm, cffi, bleach, beautifulsoup4, asttokens, anyio, stack-data, jupyter-server-terminals, jupyter-client, jsonschema-specifications, httpx, arrow, argon2-cffi-bindings, jsonschema, isoduration, ipython, argon2-cffi, nbformat, ipywidgets, ipykernel, qtconsole, nbclient, jupyter-events, jupyter-console, nbconvert, jupyter-server, notebook-shim, jupyterlab-server, jupyter-lsp, jupyterlab, notebook, jupyter\n",
      "Successfully installed anyio-4.3.0 argon2-cffi-23.1.0 argon2-cffi-bindings-21.2.0 arrow-1.3.0 asttokens-2.4.1 beautifulsoup4-4.12.3 bleach-6.1.0 cffi-1.16.0 comm-0.2.2 httpcore-1.0.5 httpx-0.27.0 ipykernel-6.29.4 ipython-8.24.0 ipywidgets-8.1.2 isoduration-20.11.0 jedi-0.19.1 jsonschema-4.22.0 jsonschema-specifications-2023.12.1 jupyter-1.0.0 jupyter-client-8.6.1 jupyter-console-6.6.3 jupyter-events-0.10.0 jupyter-lsp-2.2.5 jupyter-server-2.14.0 jupyter-server-terminals-0.5.3 jupyterlab-4.1.8 jupyterlab-server-2.27.1 nbclient-0.10.0 nbconvert-7.16.4 nbformat-5.10.4 notebook-7.1.3 notebook-shim-0.2.4 qtconsole-5.5.2 stack-data-0.6.3\n"
     ]
    }
   ],
   "source": [
    "# ONLY USE THIS FOR FIRST TIME USE IN JUPYTER\n",
    "!~/new_python_3_11_env/bin/python3 -m pip install ipykernel jupyter\n"
   ]
  },
  {
   "cell_type": "code",
   "execution_count": 27,
   "id": "6c7d8e7b-ed29-4ce5-b04c-74f739eca339",
   "metadata": {
    "tags": []
   },
   "outputs": [
    {
     "name": "stdout",
     "output_type": "stream",
     "text": [
      "Installed kernelspec python3_11_kernel in /home/jovyan/.local/share/jupyter/kernels/python3_11_kernel\n"
     ]
    }
   ],
   "source": [
    "# ONLY USE THIS FOR FIRST TIME USE IN JUPYTER\n",
    "!~/new_python_3_11_env/bin/python3 -m ipykernel install --user --name=python3_11_kernel --display-name \"Python 3.11 (new env)\"\n"
   ]
  },
  {
   "cell_type": "code",
   "execution_count": 1,
   "id": "9af658b5-f3cc-4f8e-afc5-c9c0760e6f67",
   "metadata": {
    "tags": []
   },
   "outputs": [
    {
     "name": "stdout",
     "output_type": "stream",
     "text": [
      "/home/jovyan/new_python_3_11_env/bin/python3\n",
      "3.11.8 (main, Feb 26 2024, 21:39:34) [GCC 11.2.0]\n"
     ]
    }
   ],
   "source": [
    "# Check the environment\n",
    "import sys\n",
    "print(sys.executable)\n",
    "print(sys.version)\n"
   ]
  },
  {
   "cell_type": "code",
   "execution_count": 1,
   "id": "b371c1cd-992d-493e-962f-6b6f322efad0",
   "metadata": {
    "tags": []
   },
   "outputs": [
    {
     "name": "stdout",
     "output_type": "stream",
     "text": [
      "Current Working Directory before change: /home/jovyan/yolov5\n"
     ]
    },
    {
     "ename": "FileNotFoundError",
     "evalue": "[Errno 2] No such file or directory: './yolov5'",
     "output_type": "error",
     "traceback": [
      "\u001b[0;31m---------------------------------------------------------------------------\u001b[0m",
      "\u001b[0;31mFileNotFoundError\u001b[0m                         Traceback (most recent call last)",
      "Cell \u001b[0;32mIn[1], line 10\u001b[0m\n\u001b[1;32m      7\u001b[0m new_directory \u001b[38;5;241m=\u001b[39m \u001b[38;5;124m'\u001b[39m\u001b[38;5;124m./yolov5\u001b[39m\u001b[38;5;124m'\u001b[39m\n\u001b[1;32m      9\u001b[0m \u001b[38;5;66;03m# Change the current working directory to the new directory\u001b[39;00m\n\u001b[0;32m---> 10\u001b[0m \u001b[43mos\u001b[49m\u001b[38;5;241;43m.\u001b[39;49m\u001b[43mchdir\u001b[49m\u001b[43m(\u001b[49m\u001b[43mnew_directory\u001b[49m\u001b[43m)\u001b[49m\n\u001b[1;32m     12\u001b[0m \u001b[38;5;66;03m# Print the current working directory after the change\u001b[39;00m\n\u001b[1;32m     13\u001b[0m \u001b[38;5;28mprint\u001b[39m(\u001b[38;5;124m\"\u001b[39m\u001b[38;5;124mCurrent Working Directory after change:\u001b[39m\u001b[38;5;124m\"\u001b[39m, os\u001b[38;5;241m.\u001b[39mgetcwd())\n",
      "\u001b[0;31mFileNotFoundError\u001b[0m: [Errno 2] No such file or directory: './yolov5'"
     ]
    }
   ],
   "source": [
    "import os\n",
    "\n",
    "# Print the current working directory\n",
    "print(\"Current Working Directory before change:\", os.getcwd())\n",
    "\n",
    "# Specify the new directory path that you want to change to\n",
    "new_directory = './yolov5'\n",
    "\n",
    "# Change the current working directory to the new directory\n",
    "os.chdir(new_directory)\n",
    "\n",
    "# Print the current working directory after the change\n",
    "print(\"Current Working Directory after change:\", os.getcwd())\n"
   ]
  },
  {
   "cell_type": "code",
   "execution_count": 2,
   "id": "06eb616b-f047-42eb-be83-27aeea86dae8",
   "metadata": {
    "tags": []
   },
   "outputs": [
    {
     "name": "stdout",
     "output_type": "stream",
     "text": [
      "Cloning into 'yolov5'...\n",
      "remote: Enumerating objects: 16582, done.\u001b[K\n",
      "remote: Counting objects: 100% (60/60), done.\u001b[K\n",
      "remote: Compressing objects: 100% (42/42), done.\u001b[K\n",
      "remote: Total 16582 (delta 30), reused 39 (delta 18), pack-reused 16522\u001b[K\n",
      "Receiving objects: 100% (16582/16582), 15.13 MiB | 24.59 MiB/s, done.\n",
      "Resolving deltas: 100% (11387/11387), done.\n",
      "Defaulting to user installation because normal site-packages is not writeable\n",
      "\u001b[31mERROR: Could not open requirements file: [Errno 2] No such file or directory: 'requirements.txt'\u001b[0m\u001b[31m\n",
      "\u001b[0m"
     ]
    }
   ],
   "source": [
    "\n",
    "#!git clone https://github.com/ultralytics/yolov5  # clone\n"
   ]
  },
  {
   "cell_type": "code",
   "execution_count": 1,
   "id": "1dd8358a-cae3-4895-b425-acc77a816b2b",
   "metadata": {
    "collapsed": true,
    "jupyter": {
     "outputs_hidden": true
    },
    "tags": []
   },
   "outputs": [
    {
     "name": "stdout",
     "output_type": "stream",
     "text": [
      "Requirement already satisfied: gitpython>=3.1.30 in /home/jovyan/new_python_3_11_env/lib/python3.11/site-packages (from -r requirements.txt (line 5)) (3.1.43)\n",
      "Requirement already satisfied: matplotlib>=3.3 in /home/jovyan/new_python_3_11_env/lib/python3.11/site-packages (from -r requirements.txt (line 6)) (3.8.4)\n",
      "Requirement already satisfied: numpy>=1.23.5 in /home/jovyan/new_python_3_11_env/lib/python3.11/site-packages (from -r requirements.txt (line 7)) (1.26.4)\n",
      "Requirement already satisfied: opencv-python>=4.1.1 in /home/jovyan/new_python_3_11_env/lib/python3.11/site-packages (from -r requirements.txt (line 8)) (4.9.0.80)\n",
      "Requirement already satisfied: pillow>=10.3.0 in /home/jovyan/new_python_3_11_env/lib/python3.11/site-packages (from -r requirements.txt (line 9)) (10.3.0)\n",
      "Requirement already satisfied: psutil in /home/jovyan/new_python_3_11_env/lib/python3.11/site-packages (from -r requirements.txt (line 10)) (5.9.8)\n",
      "Requirement already satisfied: PyYAML>=5.3.1 in /home/jovyan/new_python_3_11_env/lib/python3.11/site-packages (from -r requirements.txt (line 11)) (6.0.1)\n",
      "Requirement already satisfied: requests>=2.23.0 in /home/jovyan/new_python_3_11_env/lib/python3.11/site-packages (from -r requirements.txt (line 12)) (2.31.0)\n",
      "Requirement already satisfied: scipy>=1.4.1 in /home/jovyan/new_python_3_11_env/lib/python3.11/site-packages (from -r requirements.txt (line 13)) (1.13.0)\n",
      "Requirement already satisfied: thop>=0.1.1 in /home/jovyan/new_python_3_11_env/lib/python3.11/site-packages (from -r requirements.txt (line 14)) (0.1.1.post2209072238)\n",
      "Requirement already satisfied: torch>=1.8.0 in /home/jovyan/new_python_3_11_env/lib/python3.11/site-packages (from -r requirements.txt (line 15)) (2.3.0)\n",
      "Requirement already satisfied: torchvision>=0.9.0 in /home/jovyan/new_python_3_11_env/lib/python3.11/site-packages (from -r requirements.txt (line 16)) (0.18.0)\n",
      "Requirement already satisfied: tqdm>=4.64.0 in /home/jovyan/new_python_3_11_env/lib/python3.11/site-packages (from -r requirements.txt (line 17)) (4.66.4)\n",
      "Requirement already satisfied: ultralytics>=8.0.232 in /home/jovyan/new_python_3_11_env/lib/python3.11/site-packages (from -r requirements.txt (line 18)) (8.2.11)\n",
      "Requirement already satisfied: pandas>=1.1.4 in /home/jovyan/new_python_3_11_env/lib/python3.11/site-packages (from -r requirements.txt (line 27)) (2.2.2)\n",
      "Requirement already satisfied: seaborn>=0.11.0 in /home/jovyan/new_python_3_11_env/lib/python3.11/site-packages (from -r requirements.txt (line 28)) (0.13.2)\n",
      "Requirement already satisfied: setuptools>=65.5.1 in /home/jovyan/new_python_3_11_env/lib/python3.11/site-packages (from -r requirements.txt (line 42)) (69.5.1)\n",
      "Requirement already satisfied: wheel>=0.38.0 in /home/jovyan/new_python_3_11_env/lib/python3.11/site-packages (from -r requirements.txt (line 50)) (0.43.0)\n",
      "Requirement already satisfied: gitdb<5,>=4.0.1 in /home/jovyan/new_python_3_11_env/lib/python3.11/site-packages (from gitpython>=3.1.30->-r requirements.txt (line 5)) (4.0.11)\n",
      "Requirement already satisfied: contourpy>=1.0.1 in /home/jovyan/new_python_3_11_env/lib/python3.11/site-packages (from matplotlib>=3.3->-r requirements.txt (line 6)) (1.2.1)\n",
      "Requirement already satisfied: cycler>=0.10 in /home/jovyan/new_python_3_11_env/lib/python3.11/site-packages (from matplotlib>=3.3->-r requirements.txt (line 6)) (0.12.1)\n",
      "Requirement already satisfied: fonttools>=4.22.0 in /home/jovyan/new_python_3_11_env/lib/python3.11/site-packages (from matplotlib>=3.3->-r requirements.txt (line 6)) (4.51.0)\n",
      "Requirement already satisfied: kiwisolver>=1.3.1 in /home/jovyan/new_python_3_11_env/lib/python3.11/site-packages (from matplotlib>=3.3->-r requirements.txt (line 6)) (1.4.5)\n",
      "Requirement already satisfied: packaging>=20.0 in /home/jovyan/new_python_3_11_env/lib/python3.11/site-packages (from matplotlib>=3.3->-r requirements.txt (line 6)) (24.0)\n",
      "Requirement already satisfied: pyparsing>=2.3.1 in /home/jovyan/new_python_3_11_env/lib/python3.11/site-packages (from matplotlib>=3.3->-r requirements.txt (line 6)) (3.1.2)\n",
      "Requirement already satisfied: python-dateutil>=2.7 in /home/jovyan/new_python_3_11_env/lib/python3.11/site-packages (from matplotlib>=3.3->-r requirements.txt (line 6)) (2.9.0.post0)\n",
      "Requirement already satisfied: charset-normalizer<4,>=2 in /home/jovyan/new_python_3_11_env/lib/python3.11/site-packages (from requests>=2.23.0->-r requirements.txt (line 12)) (3.3.2)\n",
      "Requirement already satisfied: idna<4,>=2.5 in /home/jovyan/new_python_3_11_env/lib/python3.11/site-packages (from requests>=2.23.0->-r requirements.txt (line 12)) (3.7)\n",
      "Requirement already satisfied: urllib3<3,>=1.21.1 in /home/jovyan/new_python_3_11_env/lib/python3.11/site-packages (from requests>=2.23.0->-r requirements.txt (line 12)) (2.2.1)\n",
      "Requirement already satisfied: certifi>=2017.4.17 in /home/jovyan/new_python_3_11_env/lib/python3.11/site-packages (from requests>=2.23.0->-r requirements.txt (line 12)) (2024.2.2)\n",
      "Requirement already satisfied: filelock in /home/jovyan/new_python_3_11_env/lib/python3.11/site-packages (from torch>=1.8.0->-r requirements.txt (line 15)) (3.14.0)\n",
      "Requirement already satisfied: typing-extensions>=4.8.0 in /home/jovyan/new_python_3_11_env/lib/python3.11/site-packages (from torch>=1.8.0->-r requirements.txt (line 15)) (4.11.0)\n",
      "Requirement already satisfied: sympy in /home/jovyan/new_python_3_11_env/lib/python3.11/site-packages (from torch>=1.8.0->-r requirements.txt (line 15)) (1.12)\n",
      "Requirement already satisfied: networkx in /home/jovyan/new_python_3_11_env/lib/python3.11/site-packages (from torch>=1.8.0->-r requirements.txt (line 15)) (3.3)\n",
      "Requirement already satisfied: jinja2 in /home/jovyan/new_python_3_11_env/lib/python3.11/site-packages (from torch>=1.8.0->-r requirements.txt (line 15)) (3.1.4)\n",
      "Requirement already satisfied: fsspec in /home/jovyan/new_python_3_11_env/lib/python3.11/site-packages (from torch>=1.8.0->-r requirements.txt (line 15)) (2024.3.1)\n",
      "Requirement already satisfied: nvidia-cuda-nvrtc-cu12==12.1.105 in /home/jovyan/new_python_3_11_env/lib/python3.11/site-packages (from torch>=1.8.0->-r requirements.txt (line 15)) (12.1.105)\n",
      "Requirement already satisfied: nvidia-cuda-runtime-cu12==12.1.105 in /home/jovyan/new_python_3_11_env/lib/python3.11/site-packages (from torch>=1.8.0->-r requirements.txt (line 15)) (12.1.105)\n",
      "Requirement already satisfied: nvidia-cuda-cupti-cu12==12.1.105 in /home/jovyan/new_python_3_11_env/lib/python3.11/site-packages (from torch>=1.8.0->-r requirements.txt (line 15)) (12.1.105)\n",
      "Requirement already satisfied: nvidia-cudnn-cu12==8.9.2.26 in /home/jovyan/new_python_3_11_env/lib/python3.11/site-packages (from torch>=1.8.0->-r requirements.txt (line 15)) (8.9.2.26)\n",
      "Requirement already satisfied: nvidia-cublas-cu12==12.1.3.1 in /home/jovyan/new_python_3_11_env/lib/python3.11/site-packages (from torch>=1.8.0->-r requirements.txt (line 15)) (12.1.3.1)\n",
      "Requirement already satisfied: nvidia-cufft-cu12==11.0.2.54 in /home/jovyan/new_python_3_11_env/lib/python3.11/site-packages (from torch>=1.8.0->-r requirements.txt (line 15)) (11.0.2.54)\n",
      "Requirement already satisfied: nvidia-curand-cu12==10.3.2.106 in /home/jovyan/new_python_3_11_env/lib/python3.11/site-packages (from torch>=1.8.0->-r requirements.txt (line 15)) (10.3.2.106)\n",
      "Requirement already satisfied: nvidia-cusolver-cu12==11.4.5.107 in /home/jovyan/new_python_3_11_env/lib/python3.11/site-packages (from torch>=1.8.0->-r requirements.txt (line 15)) (11.4.5.107)\n",
      "Requirement already satisfied: nvidia-cusparse-cu12==12.1.0.106 in /home/jovyan/new_python_3_11_env/lib/python3.11/site-packages (from torch>=1.8.0->-r requirements.txt (line 15)) (12.1.0.106)\n",
      "Requirement already satisfied: nvidia-nccl-cu12==2.20.5 in /home/jovyan/new_python_3_11_env/lib/python3.11/site-packages (from torch>=1.8.0->-r requirements.txt (line 15)) (2.20.5)\n",
      "Requirement already satisfied: nvidia-nvtx-cu12==12.1.105 in /home/jovyan/new_python_3_11_env/lib/python3.11/site-packages (from torch>=1.8.0->-r requirements.txt (line 15)) (12.1.105)\n",
      "Requirement already satisfied: triton==2.3.0 in /home/jovyan/new_python_3_11_env/lib/python3.11/site-packages (from torch>=1.8.0->-r requirements.txt (line 15)) (2.3.0)\n",
      "Requirement already satisfied: nvidia-nvjitlink-cu12 in /home/jovyan/new_python_3_11_env/lib/python3.11/site-packages (from nvidia-cusolver-cu12==11.4.5.107->torch>=1.8.0->-r requirements.txt (line 15)) (12.4.127)\n",
      "Requirement already satisfied: py-cpuinfo in /home/jovyan/new_python_3_11_env/lib/python3.11/site-packages (from ultralytics>=8.0.232->-r requirements.txt (line 18)) (9.0.0)\n",
      "Requirement already satisfied: pytz>=2020.1 in /home/jovyan/new_python_3_11_env/lib/python3.11/site-packages (from pandas>=1.1.4->-r requirements.txt (line 27)) (2024.1)\n",
      "Requirement already satisfied: tzdata>=2022.7 in /home/jovyan/new_python_3_11_env/lib/python3.11/site-packages (from pandas>=1.1.4->-r requirements.txt (line 27)) (2024.1)\n",
      "Requirement already satisfied: smmap<6,>=3.0.1 in /home/jovyan/new_python_3_11_env/lib/python3.11/site-packages (from gitdb<5,>=4.0.1->gitpython>=3.1.30->-r requirements.txt (line 5)) (5.0.1)\n",
      "Requirement already satisfied: six>=1.5 in /home/jovyan/new_python_3_11_env/lib/python3.11/site-packages (from python-dateutil>=2.7->matplotlib>=3.3->-r requirements.txt (line 6)) (1.16.0)\n",
      "Requirement already satisfied: MarkupSafe>=2.0 in /home/jovyan/new_python_3_11_env/lib/python3.11/site-packages (from jinja2->torch>=1.8.0->-r requirements.txt (line 15)) (2.1.5)\n",
      "Requirement already satisfied: mpmath>=0.19 in /home/jovyan/new_python_3_11_env/lib/python3.11/site-packages (from sympy->torch>=1.8.0->-r requirements.txt (line 15)) (1.3.0)\n",
      "\n",
      "\u001b[1m[\u001b[0m\u001b[34;49mnotice\u001b[0m\u001b[1;39;49m]\u001b[0m\u001b[39;49m A new release of pip is available: \u001b[0m\u001b[31;49m24.0\u001b[0m\u001b[39;49m -> \u001b[0m\u001b[32;49m24.1.1\u001b[0m\n",
      "\u001b[1m[\u001b[0m\u001b[34;49mnotice\u001b[0m\u001b[1;39;49m]\u001b[0m\u001b[39;49m To update, run: \u001b[0m\u001b[32;49m/home/jovyan/new_python_3_11_env/bin/python3 -m pip install --upgrade pip\u001b[0m\n"
     ]
    }
   ],
   "source": [
    "\n",
    "\n",
    "# ONLY USE THIS FOR FIRST TIME USE IN JUPYTER\n",
    "# Installs all of the libraries used for training\n",
    "!~/new_python_3_11_env/bin/python3 -m pip install -r requirements.txt  # install"
   ]
  },
  {
   "cell_type": "code",
   "execution_count": 25,
   "id": "6afe086d-e92a-46ca-8d70-78863eb800de",
   "metadata": {
    "collapsed": true,
    "jupyter": {
     "outputs_hidden": true
    },
    "tags": []
   },
   "outputs": [
    {
     "name": "stdout",
     "output_type": "stream",
     "text": [
      "Looking in indexes: https://pypi.org/simple, https://download.pytorch.org/whl/cu116\n",
      "Collecting torch\n",
      "  Downloading torch-2.3.0-cp311-cp311-manylinux1_x86_64.whl.metadata (26 kB)\n",
      "Collecting torchvision\n",
      "  Downloading torchvision-0.18.0-cp311-cp311-manylinux1_x86_64.whl.metadata (6.6 kB)\n",
      "Collecting torchaudio\n",
      "  Downloading torchaudio-2.3.0-cp311-cp311-manylinux1_x86_64.whl.metadata (6.4 kB)\n",
      "Requirement already satisfied: filelock in /home/jovyan/new_python_3_11_env/lib/python3.11/site-packages (from torch) (3.14.0)\n",
      "Requirement already satisfied: typing-extensions>=4.8.0 in /home/jovyan/new_python_3_11_env/lib/python3.11/site-packages (from torch) (4.11.0)\n",
      "Requirement already satisfied: sympy in /home/jovyan/new_python_3_11_env/lib/python3.11/site-packages (from torch) (1.12)\n",
      "Requirement already satisfied: networkx in /home/jovyan/new_python_3_11_env/lib/python3.11/site-packages (from torch) (3.3)\n",
      "Requirement already satisfied: jinja2 in /home/jovyan/new_python_3_11_env/lib/python3.11/site-packages (from torch) (3.1.4)\n",
      "Requirement already satisfied: fsspec in /home/jovyan/new_python_3_11_env/lib/python3.11/site-packages (from torch) (2024.3.1)\n",
      "Requirement already satisfied: nvidia-cuda-nvrtc-cu12==12.1.105 in /home/jovyan/new_python_3_11_env/lib/python3.11/site-packages (from torch) (12.1.105)\n",
      "Requirement already satisfied: nvidia-cuda-runtime-cu12==12.1.105 in /home/jovyan/new_python_3_11_env/lib/python3.11/site-packages (from torch) (12.1.105)\n",
      "Requirement already satisfied: nvidia-cuda-cupti-cu12==12.1.105 in /home/jovyan/new_python_3_11_env/lib/python3.11/site-packages (from torch) (12.1.105)\n",
      "Requirement already satisfied: nvidia-cudnn-cu12==8.9.2.26 in /home/jovyan/new_python_3_11_env/lib/python3.11/site-packages (from torch) (8.9.2.26)\n",
      "Requirement already satisfied: nvidia-cublas-cu12==12.1.3.1 in /home/jovyan/new_python_3_11_env/lib/python3.11/site-packages (from torch) (12.1.3.1)\n",
      "Requirement already satisfied: nvidia-cufft-cu12==11.0.2.54 in /home/jovyan/new_python_3_11_env/lib/python3.11/site-packages (from torch) (11.0.2.54)\n",
      "Requirement already satisfied: nvidia-curand-cu12==10.3.2.106 in /home/jovyan/new_python_3_11_env/lib/python3.11/site-packages (from torch) (10.3.2.106)\n",
      "Requirement already satisfied: nvidia-cusolver-cu12==11.4.5.107 in /home/jovyan/new_python_3_11_env/lib/python3.11/site-packages (from torch) (11.4.5.107)\n",
      "Requirement already satisfied: nvidia-cusparse-cu12==12.1.0.106 in /home/jovyan/new_python_3_11_env/lib/python3.11/site-packages (from torch) (12.1.0.106)\n",
      "Requirement already satisfied: nvidia-nccl-cu12==2.20.5 in /home/jovyan/new_python_3_11_env/lib/python3.11/site-packages (from torch) (2.20.5)\n",
      "Requirement already satisfied: nvidia-nvtx-cu12==12.1.105 in /home/jovyan/new_python_3_11_env/lib/python3.11/site-packages (from torch) (12.1.105)\n",
      "Requirement already satisfied: triton==2.3.0 in /home/jovyan/new_python_3_11_env/lib/python3.11/site-packages (from torch) (2.3.0)\n",
      "Requirement already satisfied: nvidia-nvjitlink-cu12 in /home/jovyan/new_python_3_11_env/lib/python3.11/site-packages (from nvidia-cusolver-cu12==11.4.5.107->torch) (12.4.127)\n",
      "Requirement already satisfied: numpy in /home/jovyan/new_python_3_11_env/lib/python3.11/site-packages (from torchvision) (1.26.4)\n",
      "Requirement already satisfied: pillow!=8.3.*,>=5.3.0 in /home/jovyan/new_python_3_11_env/lib/python3.11/site-packages (from torchvision) (10.3.0)\n",
      "Requirement already satisfied: MarkupSafe>=2.0 in /home/jovyan/new_python_3_11_env/lib/python3.11/site-packages (from jinja2->torch) (2.1.5)\n",
      "Requirement already satisfied: mpmath>=0.19 in /home/jovyan/new_python_3_11_env/lib/python3.11/site-packages (from sympy->torch) (1.3.0)\n",
      "Downloading torch-2.3.0-cp311-cp311-manylinux1_x86_64.whl (779.2 MB)\n",
      "\u001b[2K   \u001b[90m━━━━━━━━━━━━━━━━━━━━━━━━━━━━━━━━━━━━━━━━\u001b[0m \u001b[32m779.2/779.2 MB\u001b[0m \u001b[31m4.1 MB/s\u001b[0m eta \u001b[36m0:00:00\u001b[0m:00:01\u001b[0m00:01\u001b[0m\n",
      "\u001b[?25hDownloading torchvision-0.18.0-cp311-cp311-manylinux1_x86_64.whl (7.0 MB)\n",
      "\u001b[2K   \u001b[90m━━━━━━━━━━━━━━━━━━━━━━━━━━━━━━━━━━━━━━━━\u001b[0m \u001b[32m7.0/7.0 MB\u001b[0m \u001b[31m71.1 MB/s\u001b[0m eta \u001b[36m0:00:00\u001b[0m:00:01\u001b[0m00:01\u001b[0m\n",
      "\u001b[?25hDownloading torchaudio-2.3.0-cp311-cp311-manylinux1_x86_64.whl (3.4 MB)\n",
      "\u001b[2K   \u001b[90m━━━━━━━━━━━━━━━━━━━━━━━━━━━━━━━━━━━━━━━━\u001b[0m \u001b[32m3.4/3.4 MB\u001b[0m \u001b[31m56.1 MB/s\u001b[0m eta \u001b[36m0:00:00\u001b[0m:00:01\u001b[0m\n",
      "\u001b[?25hInstalling collected packages: torch, torchvision, torchaudio\n",
      "Successfully installed torch-2.3.0 torchaudio-2.3.0 torchvision-0.18.0\n"
     ]
    }
   ],
   "source": [
    "# Installs the correct version of pytorch can switch between systems\n",
    "!~/new_python_3_11_env/bin/python3 -m pip install torch torchvision torchaudio --extra-index-url https://download.pytorch.org/whl/cu116\n",
    "\n"
   ]
  },
  {
   "cell_type": "code",
   "execution_count": 30,
   "id": "77e73dd4-0fe6-46ec-8a6c-b0bf2e512a10",
   "metadata": {
    "tags": []
   },
   "outputs": [
    {
     "name": "stdout",
     "output_type": "stream",
     "text": [
      "Deleted folder: ./distributed_data_set_v4\n"
     ]
    }
   ],
   "source": [
    "# This can be used to clear folders don't just run it\n",
    "import shutil\n",
    "import os\n",
    "\n",
    "def delete_folder(folder_path):\n",
    "    if os.path.exists(folder_path):\n",
    "        shutil.rmtree(folder_path)\n",
    "        print(f\"Deleted folder: {folder_path}\")\n",
    "    else:\n",
    "        print(f\"Folder not found: {folder_path}\")\n",
    "\n",
    "# Example usage\n",
    "folder_to_delete = './PUT_FOLDER_NAME_HERE'\n",
    "delete_folder(folder_to_delete)\n"
   ]
  },
  {
   "cell_type": "code",
   "execution_count": 12,
   "id": "6c515ddb-4c53-4028-ae61-d5a1ec778e15",
   "metadata": {
    "tags": []
   },
   "outputs": [
    {
     "name": "stdout",
     "output_type": "stream",
     "text": [
      "Extracted all contents of distributed_data_set_v6.zip to .\n"
     ]
    }
   ],
   "source": [
    "# USE THIS FOR EXTRACTING A ZIP FILE IF YOU CREATED A DATASET FROM A DIFFERENT OPERATING SYSTEM\n",
    "import zipfile\n",
    "import os\n",
    "\n",
    "def extract_zip(zip_path, extract_to):\n",
    "    # Ensure the destination directory exists\n",
    "    os.makedirs(extract_to, exist_ok=True)\n",
    "    \n",
    "    # Open the zip file\n",
    "    with zipfile.ZipFile(zip_path, 'r') as zip_ref:\n",
    "        # Extract all the contents\n",
    "        zip_ref.extractall(extract_to)\n",
    "\n",
    "    print(f\"Extracted all contents of {zip_path} to {extract_to}\")\n",
    "\n",
    "# Example usage\n",
    "zip_path = 'ZIP FILE PATH HERE'\n",
    "extract_to = '.'\n",
    "\n",
    "extract_zip(zip_path, extract_to)\n"
   ]
  },
  {
   "cell_type": "code",
   "execution_count": 6,
   "id": "2c3c007f-7c9e-4922-89e6-c45dafc72fab",
   "metadata": {
    "tags": []
   },
   "outputs": [
    {
     "name": "stdout",
     "output_type": "stream",
     "text": [
      "Training directory: ./distributed_data_set_v5/train\n",
      "Validation directory: ./distributed_data_set_v5/valid\n",
      "Testing directory: ./distributed_data_set_v5/test\n"
     ]
    }
   ],
   "source": [
    "# Base dataset directory as per `data.yaml`\n",
    "#Properly initiates the dataset file paths\n",
    "\n",
    "import shutil\n",
    "from glob import glob\n",
    "from IPython.display import Image, display\n",
    "import yaml\n",
    "import os\n",
    "dataset_base_dir = './sdc-challenge/DataSet/DistributedDataset/'\n",
    "\n",
    "data_yaml_path = os.path.join(dataset_base_dir, 'data.yaml')\n",
    "# Read and display the content of data.yaml\n",
    "with open(data_yaml_path, 'r') as file:\n",
    "    data_yaml = yaml.safe_load(file)\n",
    "    \n",
    "# Now adjust directory paths for train, val, test\n",
    "train_dir = os.path.join(dataset_base_dir, 'train')\n",
    "val_dir = os.path.join(dataset_base_dir, 'valid')\n",
    "test_dir = os.path.join(dataset_base_dir, 'test')\n",
    "\n",
    "# Print out the paths to check\n",
    "print(\"Training directory:\", train_dir)\n",
    "print(\"Validation directory:\", val_dir)\n",
    "print(\"Testing directory:\", test_dir)"
   ]
  },
  {
   "cell_type": "code",
   "execution_count": 7,
   "id": "d9b20d31-19eb-4e2a-9dee-6d5145e39688",
   "metadata": {
    "tags": []
   },
   "outputs": [
    {
     "name": "stdout",
     "output_type": "stream",
     "text": [
      "Directory ./distributed_data_set_v5/train exists with 5525 items.\n",
      "Directory ./distributed_data_set_v5/valid exists with 860 items.\n",
      "Directory ./distributed_data_set_v5/test exists with 1639 items.\n"
     ]
    }
   ],
   "source": [
    "# Function to check directory existence\n",
    "def check_directory(path):\n",
    "    if os.path.exists(path):\n",
    "        print(f\"Directory {path} exists with {len(os.listdir((os.path.join(path,'images'))))} items.\")\n",
    "    else:\n",
    "        print(f\"Directory {path} does not exist.\")\n",
    "\n",
    "# Check the existence of directories\n",
    "check_directory(train_dir)\n",
    "check_directory(val_dir)\n",
    "check_directory(test_dir)\n"
   ]
  },
  {
   "cell_type": "code",
   "execution_count": 2,
   "id": "b733a289-ab31-4463-b412-92073a528b70",
   "metadata": {
    "tags": []
   },
   "outputs": [
    {
     "name": "stdout",
     "output_type": "stream",
     "text": [
      "Current Python kernel in Jupyter: /home/jovyan/new_python_3_11_env/bin/python3\n"
     ]
    }
   ],
   "source": [
    "import sys\n",
    "print(\"Current Python kernel in Jupyter:\", sys.executable)\n"
   ]
  },
  {
   "cell_type": "code",
   "execution_count": 4,
   "id": "6d107cf4-cb05-4e57-aa5c-f52a91ec3552",
   "metadata": {
    "tags": []
   },
   "outputs": [
    {
     "name": "stdout",
     "output_type": "stream",
     "text": [
      "PyTorch Version: 2.3.0+cu121\n",
      "Is CUDA available in PyTorch: False\n",
      "CUDA Version (PyTorch): 12.1\n",
      "cuDNN Version: 8902\n",
      "CUDA Device Error: The NVIDIA driver on your system is too old (found version 11060). Please update your GPU driver by downloading and installing a new version from the URL: http://www.nvidia.com/Download/index.aspx Alternatively, go to: https://pytorch.org to install a PyTorch version that has been compiled with your version of the CUDA driver.\n"
     ]
    },
    {
     "name": "stderr",
     "output_type": "stream",
     "text": [
      "/home/jovyan/new_python_3_11_env/lib/python3.11/site-packages/torch/cuda/__init__.py:118: UserWarning: CUDA initialization: The NVIDIA driver on your system is too old (found version 11060). Please update your GPU driver by downloading and installing a new version from the URL: http://www.nvidia.com/Download/index.aspx Alternatively, go to: https://pytorch.org to install a PyTorch version that has been compiled with your version of the CUDA driver. (Triggered internally at ../c10/cuda/CUDAFunctions.cpp:108.)\n",
      "  return torch._C._cuda_getDeviceCount() > 0\n"
     ]
    }
   ],
   "source": [
    "# Check the version of pytorch\n",
    "import torch\n",
    "\n",
    "print(\"PyTorch Version:\", torch.__version__)\n",
    "print(\"Is CUDA available in PyTorch:\", torch.cuda.is_available())\n",
    "\n",
    "print(\"CUDA Version (PyTorch):\", torch.version.cuda)\n",
    "print(\"cuDNN Version:\", torch.backends.cudnn.version())\n",
    "try:\n",
    "     print(\"Current CUDA Device:\", torch.cuda.get_device_name(torch.cuda.current_device()))\n",
    "except RuntimeError as e:\n",
    "        print(\"CUDA Device Error:\", e)\n",
    "\n"
   ]
  },
  {
   "cell_type": "code",
   "execution_count": 8,
   "id": "be8eff36-ad09-4bb8-a9eb-63509a910804",
   "metadata": {
    "tags": []
   },
   "outputs": [
    {
     "name": "stderr",
     "output_type": "stream",
     "text": [
      "\u001b[34m\u001b[1mwandb\u001b[0m: Currently logged in as: \u001b[33mdejanhonderd100\u001b[0m (\u001b[33mdejan_traffic\u001b[0m). Use \u001b[1m`wandb login --relogin`\u001b[0m to force relogin\n",
      "\u001b[34m\u001b[1mwandb\u001b[0m: \u001b[33mWARNING\u001b[0m If you're specifying your api key in code, ensure this code is not shared publicly.\n",
      "\u001b[34m\u001b[1mwandb\u001b[0m: \u001b[33mWARNING\u001b[0m Consider setting the WANDB_API_KEY environment variable, or running `wandb login` from the command line.\n",
      "\u001b[34m\u001b[1mwandb\u001b[0m: Appending key for api.wandb.ai to your netrc file: /home/jovyan/.netrc\n"
     ]
    },
    {
     "data": {
      "text/plain": [
       "True"
      ]
     },
     "execution_count": 8,
     "metadata": {},
     "output_type": "execute_result"
    }
   ],
   "source": [
    "import wandb\n",
    "wandb.login(key='')"
   ]
  },
  {
   "cell_type": "code",
   "execution_count": 25,
   "id": "1e48b935-91a7-4cd6-918e-d9ffa46a47ed",
   "metadata": {
    "tags": []
   },
   "outputs": [
    {
     "name": "stdout",
     "output_type": "stream",
     "text": [
      "done\n"
     ]
    }
   ],
   "source": [
    "torch.cuda.empty_cache()\n",
    "print(\"done\")"
   ]
  },
  {
   "cell_type": "code",
   "execution_count": 8,
   "id": "0a6a659c-cc6f-48a2-8a5f-1e60f96a049b",
   "metadata": {
    "tags": []
   },
   "outputs": [
    {
     "name": "stdout",
     "output_type": "stream",
     "text": [
      "\u001b[34m\u001b[1mtrain: \u001b[0mweights=./runs/train/version5_Traffic_train_4/weights/last.pt, cfg=./models/yolov5s.yaml, data=./distributed_data_set_v5/data.yaml, hyp=./data/hyps/hyp.finetune.yaml, epochs=100, batch_size=3, imgsz=448, rect=False, resume=False, nosave=False, noval=False, noautoanchor=False, noplots=False, evolve=None, evolve_population=data/hyps, resume_evolve=None, bucket=, cache=ram, image_weights=False, device=0, multi_scale=False, single_cls=False, optimizer=SGD, sync_bn=False, workers=8, project=./runs/train, name=version5_Traffic_train, exist_ok=False, quad=False, cos_lr=False, label_smoothing=0.0, patience=10, freeze=[0], save_period=1, seed=0, local_rank=-1, entity=None, upload_dataset=False, bbox_interval=-1, artifact_alias=latest, ndjson_console=False, ndjson_file=False\n",
      "\u001b[34m\u001b[1mgithub: \u001b[0m⚠️ YOLOv5 is out of date by 11 commits. Use 'git pull' or 'git clone https://github.com/ultralytics/yolov5' to update.\n",
      "YOLOv5 🚀 v7.0-307-g920c721e Python-3.8.10 torch-1.13.1+cu116 CUDA:0 (Tesla T4, 14910MiB)\n",
      "\n",
      "\u001b[34m\u001b[1mhyperparameters: \u001b[0mlr0=0.01, lrf=0.1, momentum=0.937, weight_decay=0.0005, warmup_epochs=3.0, warmup_momentum=0.8, warmup_bias_lr=0.1, box=0.05, cls=0.5, cls_pw=1.0, obj=0.7, obj_pw=1.0, iou_t=0.2, anchor_t=4.0, fl_gamma=0.0, hsv_h=0.015, hsv_s=0.7, hsv_v=0.4, degrees=5.0, translate=0.1, scale=0.9, shear=0.0, perspective=0.0, flipud=0.0, fliplr=0.5, mosaic=1.0, mixup=0.1, copy_paste=0.0\n",
      "\u001b[34m\u001b[1mComet: \u001b[0mrun 'pip install comet_ml' to automatically track and visualize YOLOv5 🚀 runs in Comet\n",
      "\u001b[34m\u001b[1mTensorBoard: \u001b[0mStart with 'tensorboard --logdir runs/train', view at http://localhost:6006/\n",
      "Overriding model.yaml nc=80 with nc=7\n",
      "\n",
      "                 from  n    params  module                                  arguments                     \n",
      "  0                -1  1      3520  models.common.Conv                      [3, 32, 6, 2, 2]              \n",
      "  1                -1  1     18560  models.common.Conv                      [32, 64, 3, 2]                \n",
      "  2                -1  1     18816  models.common.C3                        [64, 64, 1]                   \n",
      "  3                -1  1     73984  models.common.Conv                      [64, 128, 3, 2]               \n",
      "  4                -1  2    115712  models.common.C3                        [128, 128, 2]                 \n",
      "  5                -1  1    295424  models.common.Conv                      [128, 256, 3, 2]              \n",
      "  6                -1  3    625152  models.common.C3                        [256, 256, 3]                 \n",
      "  7                -1  1   1180672  models.common.Conv                      [256, 512, 3, 2]              \n",
      "  8                -1  1   1182720  models.common.C3                        [512, 512, 1]                 \n",
      "  9                -1  1    656896  models.common.SPPF                      [512, 512, 5]                 \n",
      " 10                -1  1    131584  models.common.Conv                      [512, 256, 1, 1]              \n",
      " 11                -1  1         0  torch.nn.modules.upsampling.Upsample    [None, 2, 'nearest']          \n",
      " 12           [-1, 6]  1         0  models.common.Concat                    [1]                           \n",
      " 13                -1  1    361984  models.common.C3                        [512, 256, 1, False]          \n",
      " 14                -1  1     33024  models.common.Conv                      [256, 128, 1, 1]              \n",
      " 15                -1  1         0  torch.nn.modules.upsampling.Upsample    [None, 2, 'nearest']          \n",
      " 16           [-1, 4]  1         0  models.common.Concat                    [1]                           \n",
      " 17                -1  1     90880  models.common.C3                        [256, 128, 1, False]          \n",
      " 18                -1  1    147712  models.common.Conv                      [128, 128, 3, 2]              \n",
      " 19          [-1, 14]  1         0  models.common.Concat                    [1]                           \n",
      " 20                -1  1    296448  models.common.C3                        [256, 256, 1, False]          \n",
      " 21                -1  1    590336  models.common.Conv                      [256, 256, 3, 2]              \n",
      " 22          [-1, 10]  1         0  models.common.Concat                    [1]                           \n",
      " 23                -1  1   1182720  models.common.C3                        [512, 512, 1, False]          \n",
      " 24      [17, 20, 23]  1     32364  models.yolo.Detect                      [7, [[10, 13, 16, 30, 33, 23], [30, 61, 62, 45, 59, 119], [116, 90, 156, 198, 373, 326]], [128, 256, 512]]\n",
      "YOLOv5s summary: 214 layers, 7038508 parameters, 7038508 gradients, 16.0 GFLOPs\n",
      "\n",
      "Transferred 348/349 items from runs/train/version5_Traffic_train_4/weights/last.pt\n",
      "\u001b[34m\u001b[1mAMP: \u001b[0mchecks passed ✅\n",
      "\u001b[34m\u001b[1moptimizer:\u001b[0m SGD(lr=0.01) with parameter groups 57 weight(decay=0.0), 60 weight(decay=0.0004921875), 60 bias\n",
      "\u001b[34m\u001b[1mtrain: \u001b[0mScanning /home/jovyan/yolov5/distributed_data_set_v5/train/labels.cache..\u001b[0m\n",
      "\u001b[34m\u001b[1mtrain: \u001b[0mCaching images (3.1GB ram): 100%|██████████| 5525/5525 [00:02<00:00, 2246\u001b[0m\n",
      "\u001b[34m\u001b[1mval: \u001b[0mScanning /home/jovyan/yolov5/distributed_data_set_v5/valid/labels.cache... \u001b[0m\n",
      "\u001b[34m\u001b[1mval: \u001b[0mCaching images (0.5GB ram): 100%|██████████| 860/860 [00:00<00:00, 2111.41i\u001b[0m\n",
      "\n",
      "\u001b[34m\u001b[1mAutoAnchor: \u001b[0m4.65 anchors/target, 1.000 Best Possible Recall (BPR). Current anchors are a good fit to dataset ✅\n",
      "Plotting labels to runs/train/version5_Traffic_train/labels.jpg... \n",
      "Image sizes 448 train, 448 val\n",
      "Using 3 dataloader workers\n",
      "Logging results to \u001b[1mruns/train/version5_Traffic_train\u001b[0m\n",
      "Starting training for 100 epochs...\n",
      "\n",
      "      Epoch    GPU_mem   box_loss   obj_loss   cls_loss  Instances       Size\n",
      "       0/99     0.424G    0.01181   0.003333  0.0004553          2        448: 1\n",
      "                 Class     Images  Instances          P          R      mAP50   \n",
      "                   all        860       1302      0.986      0.994      0.994       0.84\n",
      "\n",
      "      Epoch    GPU_mem   box_loss   obj_loss   cls_loss  Instances       Size\n",
      "       1/99     0.503G    0.01542   0.003657  0.0007809          3        448: 1\n",
      "                 Class     Images  Instances          P          R      mAP50   \n",
      "                   all        860       1302      0.985      0.991      0.992      0.803\n",
      "\n",
      "      Epoch    GPU_mem   box_loss   obj_loss   cls_loss  Instances       Size\n",
      "       2/99     0.503G    0.02036   0.004325   0.001339         11        448: 1\n",
      "                 Class     Images  Instances          P          R      mAP50   \n",
      "                   all        860       1302      0.975      0.996      0.993      0.786\n",
      "\n",
      "      Epoch    GPU_mem   box_loss   obj_loss   cls_loss  Instances       Size\n",
      "       3/99     0.503G    0.02141   0.004674   0.002473          5        448: 1\n",
      "                 Class     Images  Instances          P          R      mAP50   \n",
      "                   all        860       1302      0.969      0.997      0.991      0.743\n",
      "\n",
      "      Epoch    GPU_mem   box_loss   obj_loss   cls_loss  Instances       Size\n",
      "       4/99     0.505G    0.02169   0.004886    0.00299          7        448: 1\n",
      "                 Class     Images  Instances          P          R      mAP50   \n",
      "                   all        860       1302      0.968      0.996      0.992      0.746\n",
      "\n",
      "      Epoch    GPU_mem   box_loss   obj_loss   cls_loss  Instances       Size\n",
      "       5/99     0.505G    0.02145   0.004982   0.003112          3        448: 1\n",
      "                 Class     Images  Instances          P          R      mAP50   \n",
      "                   all        860       1302      0.976      0.995      0.991       0.78\n",
      "\n",
      "      Epoch    GPU_mem   box_loss   obj_loss   cls_loss  Instances       Size\n",
      "       6/99     0.505G    0.02108   0.004954   0.003108          7        448: 1\n",
      "                 Class     Images  Instances          P          R      mAP50   \n",
      "                   all        860       1302      0.958      0.992      0.991      0.779\n",
      "\n",
      "      Epoch    GPU_mem   box_loss   obj_loss   cls_loss  Instances       Size\n",
      "       7/99     0.505G    0.02124   0.004873   0.003255          2        448: 1\n",
      "                 Class     Images  Instances          P          R      mAP50   \n",
      "                   all        860       1302      0.976      0.992      0.992      0.754\n",
      "\n",
      "      Epoch    GPU_mem   box_loss   obj_loss   cls_loss  Instances       Size\n",
      "       8/99     0.505G    0.02101    0.00482   0.003045         13        448: 1\n",
      "                 Class     Images  Instances          P          R      mAP50   \n",
      "                   all        860       1302      0.978      0.997      0.993      0.809\n",
      "\n",
      "      Epoch    GPU_mem   box_loss   obj_loss   cls_loss  Instances       Size\n",
      "       9/99     0.505G    0.02061   0.004948    0.00346          4        448: 1\n",
      "                 Class     Images  Instances          P          R      mAP50   \n",
      "                   all        860       1302      0.975      0.993      0.989      0.793\n",
      "\n",
      "      Epoch    GPU_mem   box_loss   obj_loss   cls_loss  Instances       Size\n",
      "      10/99     0.505G    0.02095   0.004969   0.003525          4        448: 1\n",
      "                 Class     Images  Instances          P          R      mAP50   \n",
      "                   all        860       1302       0.97      0.992      0.992      0.766\n",
      "Stopping training early as no improvement observed in last 10 epochs. Best results observed at epoch 0, best model saved as best.pt.\n",
      "To update EarlyStopping(patience=10) pass a new patience value, i.e. `python train.py --patience 300` or use `--patience 0` to disable EarlyStopping.\n",
      "\n",
      "11 epochs completed in 0.460 hours.\n",
      "Optimizer stripped from runs/train/version5_Traffic_train/weights/last.pt, 14.4MB\n",
      "Optimizer stripped from runs/train/version5_Traffic_train/weights/best.pt, 14.4MB\n",
      "\n",
      "Validating runs/train/version5_Traffic_train/weights/best.pt...\n",
      "Fusing layers... \n",
      "YOLOv5s summary: 157 layers, 7029004 parameters, 0 gradients, 15.8 GFLOPs\n",
      "                 Class     Images  Instances          P          R      mAP50   \n",
      "                   all        860       1302      0.986      0.994      0.994      0.841\n",
      "                   Car        860        235      0.938      0.962      0.985      0.876\n",
      "                Person        860        191      0.974      0.998      0.995      0.866\n",
      "   Speed-limit-10km-h-        860        195      0.998          1      0.995       0.85\n",
      "   Speed-limit-15km-h-        860        220      0.996          1      0.995      0.818\n",
      "   Speed-limit-20km-h-        860        156          1      0.999      0.995      0.879\n",
      "    TrafficLight-green        860        143      0.994          1      0.995      0.779\n",
      "      TrafficLight-red        860        162          1      0.999      0.995      0.815\n",
      "Results saved to \u001b[1mruns/train/version5_Traffic_train\u001b[0m\n"
     ]
    }
   ],
   "source": [
    "!python train.py --img 448 --batch 3 --epochs 100 \\\n",
    "                 --data {data_yaml_path} \\\n",
    "                 --cfg ./models/yolov5s.yaml \\\n",
    "                 --name version5_Traffic_train \\\n",
    "                 --weights ./runs/train/version5_Traffic_train_4/weights/last.pt \\\n",
    "                 --cache \\\n",
    "                 --save-period 1 \\\n",
    "                 --patience 10 \\\n",
    "                 --hyp ./data/hyps/hyp.finetune.yaml \\\n",
    "                 --project ./runs/train \\\n",
    "                 --device 0  \n",
    "                \n"
   ]
  },
  {
   "cell_type": "code",
   "execution_count": null,
   "id": "eba086dc-c3f7-4f3e-8364-69e6b592a450",
   "metadata": {},
   "outputs": [],
   "source": []
  }
 ],
 "metadata": {
  "kernelspec": {
   "display_name": "Python 3.11 (new env)",
   "language": "python",
   "name": "python3_11_kernel"
  },
  "language_info": {
   "codemirror_mode": {
    "name": "ipython",
    "version": 3
   },
   "file_extension": ".py",
   "mimetype": "text/x-python",
   "name": "python",
   "nbconvert_exporter": "python",
   "pygments_lexer": "ipython3",
   "version": "3.11.8"
  }
 },
 "nbformat": 4,
 "nbformat_minor": 5
}
